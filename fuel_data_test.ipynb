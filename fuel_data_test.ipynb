{
 "cells": [
  {
   "cell_type": "markdown",
   "metadata": {},
   "source": [
    "FUEL FERC DATA QUESTIONS"
   ]
  },
  {
   "cell_type": "code",
   "execution_count": 2,
   "metadata": {},
   "outputs": [],
   "source": [
    "# importing necessary libraries\n",
    "\n",
    "import pandas as pd\n",
    "import numpy as np\n",
    "import scipy.stats as stats\n",
    "import matplotlib.pyplot as plt\n",
    "%matplotlib inline"
   ]
  },
  {
   "cell_type": "code",
   "execution_count": 3,
   "metadata": {},
   "outputs": [
    {
     "data": {
      "text/html": [
       "<div>\n",
       "<style scoped>\n",
       "    .dataframe tbody tr th:only-of-type {\n",
       "        vertical-align: middle;\n",
       "    }\n",
       "\n",
       "    .dataframe tbody tr th {\n",
       "        vertical-align: top;\n",
       "    }\n",
       "\n",
       "    .dataframe thead th {\n",
       "        text-align: right;\n",
       "    }\n",
       "</style>\n",
       "<table border=\"1\" class=\"dataframe\">\n",
       "  <thead>\n",
       "    <tr style=\"text-align: right;\">\n",
       "      <th></th>\n",
       "      <th>record_id</th>\n",
       "      <th>utility_id_ferc1</th>\n",
       "      <th>report_year</th>\n",
       "      <th>plant_name_ferc1</th>\n",
       "      <th>fuel_type_code_pudl</th>\n",
       "      <th>fuel_unit</th>\n",
       "      <th>fuel_qty_burned</th>\n",
       "      <th>fuel_mmbtu_per_unit</th>\n",
       "      <th>fuel_cost_per_unit_burned</th>\n",
       "      <th>fuel_cost_per_unit_delivered</th>\n",
       "      <th>fuel_cost_per_mmbtu</th>\n",
       "    </tr>\n",
       "  </thead>\n",
       "  <tbody>\n",
       "    <tr>\n",
       "      <th>0</th>\n",
       "      <td>f1_fuel_1994_12_1_0_7</td>\n",
       "      <td>1</td>\n",
       "      <td>1994</td>\n",
       "      <td>rockport</td>\n",
       "      <td>coal</td>\n",
       "      <td>ton</td>\n",
       "      <td>5377489.0</td>\n",
       "      <td>16.590</td>\n",
       "      <td>18.59</td>\n",
       "      <td>18.53</td>\n",
       "      <td>1.121</td>\n",
       "    </tr>\n",
       "    <tr>\n",
       "      <th>1</th>\n",
       "      <td>f1_fuel_1994_12_1_0_10</td>\n",
       "      <td>1</td>\n",
       "      <td>1994</td>\n",
       "      <td>rockport total plant</td>\n",
       "      <td>coal</td>\n",
       "      <td>ton</td>\n",
       "      <td>10486945.0</td>\n",
       "      <td>16.592</td>\n",
       "      <td>18.58</td>\n",
       "      <td>18.53</td>\n",
       "      <td>1.120</td>\n",
       "    </tr>\n",
       "    <tr>\n",
       "      <th>2</th>\n",
       "      <td>f1_fuel_1994_12_2_0_1</td>\n",
       "      <td>2</td>\n",
       "      <td>1994</td>\n",
       "      <td>gorgas</td>\n",
       "      <td>coal</td>\n",
       "      <td>ton</td>\n",
       "      <td>2978683.0</td>\n",
       "      <td>24.130</td>\n",
       "      <td>39.72</td>\n",
       "      <td>38.12</td>\n",
       "      <td>1.650</td>\n",
       "    </tr>\n",
       "    <tr>\n",
       "      <th>3</th>\n",
       "      <td>f1_fuel_1994_12_2_0_7</td>\n",
       "      <td>2</td>\n",
       "      <td>1994</td>\n",
       "      <td>barry</td>\n",
       "      <td>coal</td>\n",
       "      <td>ton</td>\n",
       "      <td>3739484.0</td>\n",
       "      <td>23.950</td>\n",
       "      <td>47.21</td>\n",
       "      <td>45.99</td>\n",
       "      <td>1.970</td>\n",
       "    </tr>\n",
       "    <tr>\n",
       "      <th>4</th>\n",
       "      <td>f1_fuel_1994_12_2_0_10</td>\n",
       "      <td>2</td>\n",
       "      <td>1994</td>\n",
       "      <td>chickasaw</td>\n",
       "      <td>gas</td>\n",
       "      <td>mcf</td>\n",
       "      <td>40533.0</td>\n",
       "      <td>1.000</td>\n",
       "      <td>2.77</td>\n",
       "      <td>2.77</td>\n",
       "      <td>2.570</td>\n",
       "    </tr>\n",
       "  </tbody>\n",
       "</table>\n",
       "</div>"
      ],
      "text/plain": [
       "                record_id  utility_id_ferc1  report_year  \\\n",
       "0   f1_fuel_1994_12_1_0_7                 1         1994   \n",
       "1  f1_fuel_1994_12_1_0_10                 1         1994   \n",
       "2   f1_fuel_1994_12_2_0_1                 2         1994   \n",
       "3   f1_fuel_1994_12_2_0_7                 2         1994   \n",
       "4  f1_fuel_1994_12_2_0_10                 2         1994   \n",
       "\n",
       "       plant_name_ferc1 fuel_type_code_pudl fuel_unit  fuel_qty_burned  \\\n",
       "0              rockport                coal       ton        5377489.0   \n",
       "1  rockport total plant                coal       ton       10486945.0   \n",
       "2                gorgas                coal       ton        2978683.0   \n",
       "3                 barry                coal       ton        3739484.0   \n",
       "4             chickasaw                 gas       mcf          40533.0   \n",
       "\n",
       "   fuel_mmbtu_per_unit  fuel_cost_per_unit_burned  \\\n",
       "0               16.590                      18.59   \n",
       "1               16.592                      18.58   \n",
       "2               24.130                      39.72   \n",
       "3               23.950                      47.21   \n",
       "4                1.000                       2.77   \n",
       "\n",
       "   fuel_cost_per_unit_delivered  fuel_cost_per_mmbtu  \n",
       "0                         18.53                1.121  \n",
       "1                         18.53                1.120  \n",
       "2                         38.12                1.650  \n",
       "3                         45.99                1.970  \n",
       "4                          2.77                2.570  "
      ]
     },
     "execution_count": 3,
     "metadata": {},
     "output_type": "execute_result"
    }
   ],
   "source": [
    "# reading the fuel_ferc1 data file\n",
    "\n",
    "ferc = pd.read_csv('fuel_ferc1.txt')\n",
    "ferc.head()"
   ]
  },
  {
   "cell_type": "markdown",
   "metadata": {},
   "source": [
    "QUESTION 1"
   ]
  },
  {
   "cell_type": "code",
   "execution_count": 2,
   "metadata": {},
   "outputs": [
    {
     "data": {
      "text/plain": [
       "array([[1., 0., 0.],\n",
       "       [0., 1., 0.],\n",
       "       [0., 0., 1.]])"
      ]
     },
     "execution_count": 2,
     "metadata": {},
     "output_type": "execute_result"
    }
   ],
   "source": [
    "#creating an identity matrix\n",
    "\n",
    "np.identity(3)"
   ]
  },
  {
   "cell_type": "markdown",
   "metadata": {},
   "source": [
    "QUESTION 2"
   ]
  },
  {
   "cell_type": "code",
   "execution_count": 18,
   "metadata": {},
   "outputs": [
    {
     "data": {
      "text/plain": [
       "record_id                         0\n",
       "utility_id_ferc1                  0\n",
       "report_year                       0\n",
       "plant_name_ferc1                  0\n",
       "fuel_type_code_pudl               0\n",
       "fuel_unit                       180\n",
       "fuel_qty_burned                   0\n",
       "fuel_mmbtu_per_unit               0\n",
       "fuel_cost_per_unit_burned         0\n",
       "fuel_cost_per_unit_delivered      0\n",
       "fuel_cost_per_mmbtu               0\n",
       "dtype: int64"
      ]
     },
     "execution_count": 18,
     "metadata": {},
     "output_type": "execute_result"
    }
   ],
   "source": [
    "# finding the missing values\n",
    "\n",
    "ferc.isnull().sum()"
   ]
  },
  {
   "cell_type": "code",
   "execution_count": 5,
   "metadata": {},
   "outputs": [
    {
     "name": "stdout",
     "output_type": "stream",
     "text": [
      "The missing value is categorical and mode inputation techniques\n"
     ]
    },
    {
     "data": {
      "text/plain": [
       "0    mcf\n",
       "dtype: object"
      ]
     },
     "execution_count": 5,
     "metadata": {},
     "output_type": "execute_result"
    }
   ],
   "source": [
    "print ('The missing value is categorical and mode inputation techniques')\n",
    "\n",
    "ferc['fuel_unit'].mode()"
   ]
  },
  {
   "cell_type": "markdown",
   "metadata": {},
   "source": [
    "QUESTION 3"
   ]
  },
  {
   "cell_type": "code",
   "execution_count": 16,
   "metadata": {},
   "outputs": [
    {
     "data": {
      "image/png": "[encoded data removed]",
      "text/plain": [
       "<Figure size 900x180 with 5 Axes>"
      ]
     },
     "metadata": {
      "needs_background": "light"
     },
     "output_type": "display_data"
    }
   ],
   "source": [
    "# finding the feature with the second and third lowest correlation with the fuel cost per unit burned\n",
    "\n",
    "for i in range(0, len(ferc_num.columns), 5):\n",
    "    sns.pairplot(ferc_num, y_vars = ['fuel_cost_per_unit_burned'], x_vars = ferc_num.columns[i:i+5])"
   ]
  },
  {
   "cell_type": "markdown",
   "metadata": {},
   "source": [
    "QUESTION 4"
   ]
  },
  {
   "cell_type": "code",
   "execution_count": null,
   "metadata": {},
   "outputs": [],
   "source": []
  },
  {
   "cell_type": "code",
   "execution_count": null,
   "metadata": {},
   "outputs": [],
   "source": [
    "QUESTION 5"
   ]
  },
  {
   "cell_type": "code",
   "execution_count": 7,
   "metadata": {},
   "outputs": [
    {
     "name": "stdout",
     "output_type": "stream",
     "text": [
      "1997 is the year with highest average of fuel cost per unit delivere\n"
     ]
    },
    {
     "data": {
      "text/html": [
       "<div>\n",
       "<style scoped>\n",
       "    .dataframe tbody tr th:only-of-type {\n",
       "        vertical-align: middle;\n",
       "    }\n",
       "\n",
       "    .dataframe tbody tr th {\n",
       "        vertical-align: top;\n",
       "    }\n",
       "\n",
       "    .dataframe thead th {\n",
       "        text-align: right;\n",
       "    }\n",
       "</style>\n",
       "<table border=\"1\" class=\"dataframe\">\n",
       "  <thead>\n",
       "    <tr style=\"text-align: right;\">\n",
       "      <th></th>\n",
       "      <th>record_id</th>\n",
       "      <th>utility_id_ferc1</th>\n",
       "      <th>report_year</th>\n",
       "      <th>plant_name_ferc1</th>\n",
       "      <th>fuel_type_code_pudl</th>\n",
       "      <th>fuel_unit</th>\n",
       "      <th>fuel_qty_burned</th>\n",
       "      <th>fuel_mmbtu_per_unit</th>\n",
       "      <th>fuel_cost_per_unit_burned</th>\n",
       "      <th>fuel_cost_per_unit_delivered</th>\n",
       "      <th>fuel_cost_per_mmbtu</th>\n",
       "    </tr>\n",
       "  </thead>\n",
       "  <tbody>\n",
       "    <tr>\n",
       "      <th>2123</th>\n",
       "      <td>f1_fuel_1995_12_194_5_9</td>\n",
       "      <td>194</td>\n",
       "      <td>1995</td>\n",
       "      <td>rock river unit 1</td>\n",
       "      <td>waste</td>\n",
       "      <td>ton</td>\n",
       "      <td>6072.0</td>\n",
       "      <td>0.013457</td>\n",
       "      <td>-85.76</td>\n",
       "      <td>-85.64</td>\n",
       "      <td>-3.186</td>\n",
       "    </tr>\n",
       "    <tr>\n",
       "      <th>11242</th>\n",
       "      <td>f1_fuel_2003_12_281_1_4</td>\n",
       "      <td>281</td>\n",
       "      <td>2003</td>\n",
       "      <td>sixth street (cont)</td>\n",
       "      <td>other</td>\n",
       "      <td>ton</td>\n",
       "      <td>1159.0</td>\n",
       "      <td>0.012731</td>\n",
       "      <td>-119.04</td>\n",
       "      <td>-118.34</td>\n",
       "      <td>-5.750</td>\n",
       "    </tr>\n",
       "    <tr>\n",
       "      <th>7730</th>\n",
       "      <td>f1_fuel_2000_12_194_2_15</td>\n",
       "      <td>194</td>\n",
       "      <td>2000</td>\n",
       "      <td>nelson dewey unit 1</td>\n",
       "      <td>waste</td>\n",
       "      <td>ton</td>\n",
       "      <td>77.0</td>\n",
       "      <td>0.015500</td>\n",
       "      <td>-123.31</td>\n",
       "      <td>-174.67</td>\n",
       "      <td>-3.978</td>\n",
       "    </tr>\n",
       "    <tr>\n",
       "      <th>7736</th>\n",
       "      <td>f1_fuel_2000_12_194_3_6</td>\n",
       "      <td>194</td>\n",
       "      <td>2000</td>\n",
       "      <td>nelson dewey u 1&amp;2</td>\n",
       "      <td>waste</td>\n",
       "      <td>ton</td>\n",
       "      <td>116.0</td>\n",
       "      <td>0.015500</td>\n",
       "      <td>-174.67</td>\n",
       "      <td>-174.67</td>\n",
       "      <td>-5.635</td>\n",
       "    </tr>\n",
       "    <tr>\n",
       "      <th>7733</th>\n",
       "      <td>f1_fuel_2000_12_194_3_3</td>\n",
       "      <td>194</td>\n",
       "      <td>2000</td>\n",
       "      <td>nelson dewey unit 2</td>\n",
       "      <td>waste</td>\n",
       "      <td>ton</td>\n",
       "      <td>39.0</td>\n",
       "      <td>0.015500</td>\n",
       "      <td>-276.08</td>\n",
       "      <td>-174.67</td>\n",
       "      <td>-8.906</td>\n",
       "    </tr>\n",
       "  </tbody>\n",
       "</table>\n",
       "</div>"
      ],
      "text/plain": [
       "                      record_id  utility_id_ferc1  report_year  \\\n",
       "2123    f1_fuel_1995_12_194_5_9               194         1995   \n",
       "11242   f1_fuel_2003_12_281_1_4               281         2003   \n",
       "7730   f1_fuel_2000_12_194_2_15               194         2000   \n",
       "7736    f1_fuel_2000_12_194_3_6               194         2000   \n",
       "7733    f1_fuel_2000_12_194_3_3               194         2000   \n",
       "\n",
       "          plant_name_ferc1 fuel_type_code_pudl fuel_unit  fuel_qty_burned  \\\n",
       "2123     rock river unit 1               waste       ton           6072.0   \n",
       "11242  sixth street (cont)               other       ton           1159.0   \n",
       "7730   nelson dewey unit 1               waste       ton             77.0   \n",
       "7736    nelson dewey u 1&2               waste       ton            116.0   \n",
       "7733   nelson dewey unit 2               waste       ton             39.0   \n",
       "\n",
       "       fuel_mmbtu_per_unit  fuel_cost_per_unit_burned  \\\n",
       "2123              0.013457                     -85.76   \n",
       "11242             0.012731                    -119.04   \n",
       "7730              0.015500                    -123.31   \n",
       "7736              0.015500                    -174.67   \n",
       "7733              0.015500                    -276.08   \n",
       "\n",
       "       fuel_cost_per_unit_delivered  fuel_cost_per_mmbtu  \n",
       "2123                         -85.64               -3.186  \n",
       "11242                       -118.34               -5.750  \n",
       "7730                        -174.67               -3.978  \n",
       "7736                        -174.67               -5.635  \n",
       "7733                        -174.67               -8.906  "
      ]
     },
     "execution_count": 7,
     "metadata": {},
     "output_type": "execute_result"
    }
   ],
   "source": [
    "print ('1997 is the year with highest average of fuel cost per unit delivere')\n",
    "\n",
    "# finding the year with the highest average in fuel cost per unit delivered\n",
    "\n",
    "ferc = ferc.sort_values(by = 'fuel_cost_per_unit_burned', ascending = False)\n",
    "ferc.tail()"
   ]
  },
  {
   "cell_type": "markdown",
   "metadata": {},
   "source": [
    "QUESTION 6"
   ]
  },
  {
   "cell_type": "code",
   "execution_count": 12,
   "metadata": {},
   "outputs": [
    {
     "data": {
      "text/plain": [
       "25127    6.172572\n",
       "20719    5.880000\n",
       "24577    5.984286\n",
       "21483    0.066704\n",
       "22991    0.066706\n",
       "           ...   \n",
       "2123     0.013457\n",
       "11242    0.012731\n",
       "7730     0.015500\n",
       "7736     0.015500\n",
       "7733     0.015500\n",
       "Name: fuel_mmbtu_per_unit, Length: 29523, dtype: float64"
      ]
     },
     "execution_count": 12,
     "metadata": {},
     "output_type": "execute_result"
    }
   ],
   "source": [
    "# calling the column and putting in a variable fmpu\n",
    "\n",
    "fmpu = ferc['fuel_mmbtu_per_unit']\n",
    "fmpu"
   ]
  },
  {
   "cell_type": "code",
   "execution_count": 10,
   "metadata": {},
   "outputs": [
    {
     "data": {
      "text/plain": [
       "17.006"
      ]
     },
     "execution_count": 10,
     "metadata": {},
     "output_type": "execute_result"
    }
   ],
   "source": [
    "# finding the 75 percentile of fuel mmbtu per unit\n",
    " \n",
    "np.percentile (fmpu, 75)"
   ]
  },
  {
   "cell_type": "code",
   "execution_count": 13,
   "metadata": {},
   "outputs": [
    {
     "data": {
      "text/plain": [
       "10.600220307806715"
      ]
     },
     "execution_count": 13,
     "metadata": {},
     "output_type": "execute_result"
    }
   ],
   "source": [
    "# finding the standard deviation of fuel mmbtu per unit in 2dp\n",
    "\n",
    "ferc['fuel_mmbtu_per_unit'].std()"
   ]
  },
  {
   "cell_type": "markdown",
   "metadata": {},
   "source": [
    "QUESTION 7"
   ]
  },
  {
   "cell_type": "code",
   "execution_count": 14,
   "metadata": {},
   "outputs": [
    {
     "data": {
      "text/plain": [
       "25127    49418.0\n",
       "20719      150.0\n",
       "24577       76.0\n",
       "21483      467.0\n",
       "22991      465.0\n",
       "          ...   \n",
       "2123      6072.0\n",
       "11242     1159.0\n",
       "7730        77.0\n",
       "7736       116.0\n",
       "7733        39.0\n",
       "Name: fuel_qty_burned, Length: 29523, dtype: float64"
      ]
     },
     "execution_count": 14,
     "metadata": {},
     "output_type": "execute_result"
    }
   ],
   "source": [
    "# calling the fuel qty burned column and putting it in a variable fqb\n",
    "\n",
    "fqb = ferc['fuel_qty_burned']\n",
    "fqb"
   ]
  },
  {
   "cell_type": "code",
   "execution_count": 15,
   "metadata": {},
   "outputs": [
    {
     "data": {
      "text/plain": [
       "651.3694501337732"
      ]
     },
     "execution_count": 15,
     "metadata": {},
     "output_type": "execute_result"
    }
   ],
   "source": [
    "# finding the kurtosis of fuel quantity burned in 2dp\n",
    "\n",
    "kurt_pandas = pd.DataFrame(fqb).kurtosis()[0]\n",
    "kurt_pandas"
   ]
  },
  {
   "cell_type": "code",
   "execution_count": 16,
   "metadata": {},
   "outputs": [
    {
     "data": {
      "text/plain": [
       "15.851495469109507"
      ]
     },
     "execution_count": 16,
     "metadata": {},
     "output_type": "execute_result"
    }
   ],
   "source": [
    "# finding the skewness of fuel quantity burned in 2dp\n",
    "\n",
    "kurt_pandas = pd.DataFrame(fqb).skew()[0]\n",
    "kurt_pandas"
   ]
  },
  {
   "cell_type": "markdown",
   "metadata": {},
   "source": [
    "QUESTION 8"
   ]
  },
  {
   "cell_type": "code",
   "execution_count": null,
   "metadata": {},
   "outputs": [],
   "source": []
  },
  {
   "cell_type": "markdown",
   "metadata": {},
   "source": [
    "QUESTION 9"
   ]
  },
  {
   "cell_type": "code",
   "execution_count": 4,
   "metadata": {},
   "outputs": [
    {
     "name": "stdout",
     "output_type": "stream",
     "text": [
      "WASTE is the fuel type code with the lowest average fuel cost per unit burned\n"
     ]
    },
    {
     "data": {
      "text/html": [
       "<div>\n",
       "<style scoped>\n",
       "    .dataframe tbody tr th:only-of-type {\n",
       "        vertical-align: middle;\n",
       "    }\n",
       "\n",
       "    .dataframe tbody tr th {\n",
       "        vertical-align: top;\n",
       "    }\n",
       "\n",
       "    .dataframe thead th {\n",
       "        text-align: right;\n",
       "    }\n",
       "</style>\n",
       "<table border=\"1\" class=\"dataframe\">\n",
       "  <thead>\n",
       "    <tr style=\"text-align: right;\">\n",
       "      <th></th>\n",
       "      <th>record_id</th>\n",
       "      <th>utility_id_ferc1</th>\n",
       "      <th>report_year</th>\n",
       "      <th>plant_name_ferc1</th>\n",
       "      <th>fuel_type_code_pudl</th>\n",
       "      <th>fuel_unit</th>\n",
       "      <th>fuel_qty_burned</th>\n",
       "      <th>fuel_mmbtu_per_unit</th>\n",
       "      <th>fuel_cost_per_unit_burned</th>\n",
       "      <th>fuel_cost_per_unit_delivered</th>\n",
       "      <th>fuel_cost_per_mmbtu</th>\n",
       "    </tr>\n",
       "  </thead>\n",
       "  <tbody>\n",
       "    <tr>\n",
       "      <th>2123</th>\n",
       "      <td>f1_fuel_1995_12_194_5_9</td>\n",
       "      <td>194</td>\n",
       "      <td>1995</td>\n",
       "      <td>rock river unit 1</td>\n",
       "      <td>waste</td>\n",
       "      <td>ton</td>\n",
       "      <td>6072.0</td>\n",
       "      <td>0.013457</td>\n",
       "      <td>-85.76</td>\n",
       "      <td>-85.64</td>\n",
       "      <td>-3.186</td>\n",
       "    </tr>\n",
       "    <tr>\n",
       "      <th>11242</th>\n",
       "      <td>f1_fuel_2003_12_281_1_4</td>\n",
       "      <td>281</td>\n",
       "      <td>2003</td>\n",
       "      <td>sixth street (cont)</td>\n",
       "      <td>other</td>\n",
       "      <td>ton</td>\n",
       "      <td>1159.0</td>\n",
       "      <td>0.012731</td>\n",
       "      <td>-119.04</td>\n",
       "      <td>-118.34</td>\n",
       "      <td>-5.750</td>\n",
       "    </tr>\n",
       "    <tr>\n",
       "      <th>7730</th>\n",
       "      <td>f1_fuel_2000_12_194_2_15</td>\n",
       "      <td>194</td>\n",
       "      <td>2000</td>\n",
       "      <td>nelson dewey unit 1</td>\n",
       "      <td>waste</td>\n",
       "      <td>ton</td>\n",
       "      <td>77.0</td>\n",
       "      <td>0.015500</td>\n",
       "      <td>-123.31</td>\n",
       "      <td>-174.67</td>\n",
       "      <td>-3.978</td>\n",
       "    </tr>\n",
       "    <tr>\n",
       "      <th>7736</th>\n",
       "      <td>f1_fuel_2000_12_194_3_6</td>\n",
       "      <td>194</td>\n",
       "      <td>2000</td>\n",
       "      <td>nelson dewey u 1&amp;2</td>\n",
       "      <td>waste</td>\n",
       "      <td>ton</td>\n",
       "      <td>116.0</td>\n",
       "      <td>0.015500</td>\n",
       "      <td>-174.67</td>\n",
       "      <td>-174.67</td>\n",
       "      <td>-5.635</td>\n",
       "    </tr>\n",
       "    <tr>\n",
       "      <th>7733</th>\n",
       "      <td>f1_fuel_2000_12_194_3_3</td>\n",
       "      <td>194</td>\n",
       "      <td>2000</td>\n",
       "      <td>nelson dewey unit 2</td>\n",
       "      <td>waste</td>\n",
       "      <td>ton</td>\n",
       "      <td>39.0</td>\n",
       "      <td>0.015500</td>\n",
       "      <td>-276.08</td>\n",
       "      <td>-174.67</td>\n",
       "      <td>-8.906</td>\n",
       "    </tr>\n",
       "  </tbody>\n",
       "</table>\n",
       "</div>"
      ],
      "text/plain": [
       "                      record_id  utility_id_ferc1  report_year  \\\n",
       "2123    f1_fuel_1995_12_194_5_9               194         1995   \n",
       "11242   f1_fuel_2003_12_281_1_4               281         2003   \n",
       "7730   f1_fuel_2000_12_194_2_15               194         2000   \n",
       "7736    f1_fuel_2000_12_194_3_6               194         2000   \n",
       "7733    f1_fuel_2000_12_194_3_3               194         2000   \n",
       "\n",
       "          plant_name_ferc1 fuel_type_code_pudl fuel_unit  fuel_qty_burned  \\\n",
       "2123     rock river unit 1               waste       ton           6072.0   \n",
       "11242  sixth street (cont)               other       ton           1159.0   \n",
       "7730   nelson dewey unit 1               waste       ton             77.0   \n",
       "7736    nelson dewey u 1&2               waste       ton            116.0   \n",
       "7733   nelson dewey unit 2               waste       ton             39.0   \n",
       "\n",
       "       fuel_mmbtu_per_unit  fuel_cost_per_unit_burned  \\\n",
       "2123              0.013457                     -85.76   \n",
       "11242             0.012731                    -119.04   \n",
       "7730              0.015500                    -123.31   \n",
       "7736              0.015500                    -174.67   \n",
       "7733              0.015500                    -276.08   \n",
       "\n",
       "       fuel_cost_per_unit_delivered  fuel_cost_per_mmbtu  \n",
       "2123                         -85.64               -3.186  \n",
       "11242                       -118.34               -5.750  \n",
       "7730                        -174.67               -3.978  \n",
       "7736                        -174.67               -5.635  \n",
       "7733                        -174.67               -8.906  "
      ]
     },
     "execution_count": 4,
     "metadata": {},
     "output_type": "execute_result"
    }
   ],
   "source": [
    "# finding the fuel type code with the lowest average fuel cost per unit burned\n",
    "\n",
    "print ('WASTE is the fuel type code with the lowest average fuel cost per unit burned')\n",
    "\n",
    "ferc_sort = ferc.sort_values(by = 'fuel_cost_per_unit_burned', ascending = False)\n",
    "ferc_sort.tail()"
   ]
  },
  {
   "cell_type": "markdown",
   "metadata": {},
   "source": [
    "QUESTION 10"
   ]
  },
  {
   "cell_type": "code",
   "execution_count": 6,
   "metadata": {},
   "outputs": [
    {
     "name": "stdout",
     "output_type": "stream",
     "text": [
      "[1, 2, 3, 4, 5, 6, 13, 21, 34]\n",
      "extend is used to put A and B in a single dimension\n"
     ]
    }
   ],
   "source": [
    "# Given the two list as follows:\n",
    "\n",
    "A = [1,2,3,4,5,6] \n",
    "B = [13, 21, 34]\n",
    "A.extend(B)\n",
    "print (A)\n",
    "print('extend is used to put A and B in a single dimension')"
   ]
  },
  {
   "cell_type": "markdown",
   "metadata": {},
   "source": [
    "Thank you for the opportunity"
   ]
  }
 ],
 "metadata": {
  "kernelspec": {
   "display_name": "Python 3",
   "language": "python",
   "name": "python3"
  },
  "language_info": {
   "codemirror_mode": {
    "name": "ipython",
    "version": 3
   },
   "file_extension": ".py",
   "mimetype": "text/x-python",
   "name": "python",
   "nbconvert_exporter": "python",
   "pygments_lexer": "ipython3",
   "version": "3.8.3"
  }
 },
 "nbformat": 4,
 "nbformat_minor": 4
}
